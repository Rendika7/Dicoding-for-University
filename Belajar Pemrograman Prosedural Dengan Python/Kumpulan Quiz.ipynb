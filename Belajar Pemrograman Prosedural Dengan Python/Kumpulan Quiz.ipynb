{
 "cells": [
  {
   "cell_type": "markdown",
   "id": "88878ddd",
   "metadata": {},
   "source": [
    "# Kuis Coding: Format Jam"
   ]
  },
  {
   "cell_type": "code",
   "execution_count": 30,
   "id": "edd4b4af",
   "metadata": {},
   "outputs": [
    {
     "name": "stdout",
     "output_type": "stream",
     "text": [
      "Waktu Kedatangan Bapak Fajar: 9 : 23 : 57\n",
      "Waktu Kepulangan Bapak Fajar: 15 : 25 : 43\n"
     ]
    }
   ],
   "source": [
    "\"\"\"\n",
    "TODO:\n",
    " 1. Buatlah variabel startTime bertipe data dictionary sebagai waktu datang dengan kriteria berikut.\n",
    "    - key \"HH\" bernilai angka 9\n",
    "    - key \"mm\" bernilai angka 23\n",
    "    - key \"ss\" bernilai angka 57\n",
    " 2. Buatlah variabel endTime bertipe data dictionary sebagai waktu pulang dengan kriteria berikut.\n",
    "    - key \"HH\" bernilai angka 15\n",
    "    - key \"mm\" bernilai angka 25\n",
    "    - key \"ss\" bernilai angka 43\n",
    "\"\"\"\n",
    "# Tulis kode Anda di bawah ini ----------------------------------------------------------------------\n",
    "\n",
    "# Buat variabel startTime sebagai waktu kedatangan Bapak Fajar\n",
    "startTime: dict[str, int] = {\n",
    "    \"HH\": 9,\n",
    "    \"mm\": 23,\n",
    "    \"ss\": 57\n",
    "}\n",
    "\n",
    "# Buat variabel endTime sebagai waktu kepulangan Bapak Fajar\n",
    "endTime: dict[str, int] = {\n",
    "    \"HH\": 15,\n",
    "    \"mm\": 25,\n",
    "    \"ss\": 43\n",
    "}\n",
    "\n",
    "# Tampilkan waktu kedatangan dan kepulangan Bapak Fajar\n",
    "print(\"Waktu Kedatangan Bapak Fajar:\", startTime[\"HH\"], \":\", startTime[\"mm\"], \":\", startTime[\"ss\"])\n",
    "print(\"Waktu Kepulangan Bapak Fajar:\", endTime[\"HH\"], \":\", endTime[\"mm\"], \":\", endTime[\"ss\"])\n"
   ]
  },
  {
   "cell_type": "markdown",
   "id": "690c6ba3",
   "metadata": {},
   "source": [
    "# Kuis Coding: Daftar Inspeksi"
   ]
  },
  {
   "cell_type": "code",
   "execution_count": 32,
   "id": "72f2eb3b",
   "metadata": {},
   "outputs": [
    {
     "data": {
      "text/plain": [
       "['pemahaman terhadap rencana dan desain',\n",
       " 'ketersediaan bahan dan peralatan',\n",
       " 'pengawasan pekerjaan',\n",
       " 'kualitas konstruksi',\n",
       " 'keselamatan kerja',\n",
       " 'koordinasi dengan pemilik proyek']"
      ]
     },
     "execution_count": 32,
     "metadata": {},
     "output_type": "execute_result"
    }
   ],
   "source": [
    "\"\"\"\n",
    "TODO:\n",
    " 1. Buatlah variabel inspectionList bertipe data list untuk menyimpan daftar inspeksi dengan isian sebagai berikut.\n",
    "    - pemahaman terhadap rencana dan desain\n",
    "    - ketersediaan bahan dan peralatan\n",
    "    - pengawasan pekerjaan\n",
    "    - kualitas konstruksi\n",
    "    - keselamatan kerja\n",
    "    - koordinasi dengan pemilik proyek\n",
    "\"\"\"\n",
    "\n",
    "# Tulis kode Anda di bawah ini ----------------------------------------------------------------------\n",
    "\n",
    "inspectionList: list = [\n",
    "    \"pemahaman terhadap rencana dan desain\",\n",
    "    \"ketersediaan bahan dan peralatan\",\n",
    "    \"pengawasan pekerjaan\",\n",
    "    \"kualitas konstruksi\",\n",
    "    \"keselamatan kerja\",\n",
    "    \"koordinasi dengan pemilik proyek\"\n",
    "]\n",
    "    \n",
    "inspectionList"
   ]
  },
  {
   "cell_type": "markdown",
   "id": "129fd1b5",
   "metadata": {},
   "source": [
    "# Kuis Coding: Stock Opname"
   ]
  },
  {
   "cell_type": "code",
   "execution_count": 36,
   "id": "37a9cf67",
   "metadata": {},
   "outputs": [
    {
     "name": "stdout",
     "output_type": "stream",
     "text": [
      "Masukkan jumlah camilan yang ingin dibeli: 27\n",
      "Stok saat ini adalah 23 buah.\n"
     ]
    }
   ],
   "source": [
    "\"\"\"\n",
    "TODO:\n",
    " 1. Buatlah variabel chocolateBarStock bertipe data integer yang bernilai 50.\n",
    " 2. Tambahkan perintah untuk meminta masukan pengguna yang bertipe data integer dan simpan pada variabel chocolateBarCount.\n",
    " 3. Gunakan ekspresi yang tepat untuk menghitung total stok camilan dan simpan pada newChocolateBarStock bertipe data integer.\n",
    " 4. Tampilkan hasil stok baru pada console dengan teks \"Stok saat ini adalah {chocolateBarCount} buah.\"\n",
    "\"\"\"\n",
    "\n",
    "# Tulis kode Anda di bawah ini ----------------------------------------------------------------------\n",
    "\n",
    "chocolateBarStock: int = 50\n",
    "chocolateBarCount: int = int(input(\"Masukkan jumlah camilan yang ingin dibeli: \"))\n",
    "newChocolateBarStock: int = chocolateBarStock - chocolateBarCount\n",
    "print(f\"Stok saat ini adalah {newChocolateBarStock} buah.\")"
   ]
  },
  {
   "cell_type": "markdown",
   "id": "61c5f710",
   "metadata": {},
   "source": [
    "# Kuis Coding: Total Harga"
   ]
  },
  {
   "cell_type": "code",
   "execution_count": 37,
   "id": "5969ae9b",
   "metadata": {},
   "outputs": [
    {
     "name": "stdout",
     "output_type": "stream",
     "text": [
      "Masukkan jumlah camilan yang ingin dibeli: 100\n",
      "Harga yang harus dibayar adalah 350000 rupiah.\n"
     ]
    }
   ],
   "source": [
    "\"\"\"\n",
    "TODO:\n",
    " 1. Buatlah variabel chocolateBarPrice bertipe data integer yang bernilai 3500.\n",
    " 2. Tambahkan perintah untuk meminta masukan pengguna yang bertipe data integer dan simpan pada variabel chocolateBarCount.\n",
    " 3. Gunakan ekspresi yang tepat untuk menghitung total harga snack dan simpan pada variabel chocolateBarTotalPrice bertipe data integer.\n",
    " 4. Tampilkan hasil perhitungan pada console dengan teks \"Harga yang harus dibayar adalah {chocolateBarTotalPrice} rupiah.\"\n",
    "\"\"\"\n",
    "\n",
    "# Tulis kode Anda di bawah ini ----------------------------------------------------------------------\n",
    "\n",
    "chocolateBarPrice: int = 3500\n",
    "chocolateBarCount: int = int(input(\"Masukkan jumlah camilan yang ingin dibeli: \"))\n",
    "chocolateBarTotalPrice: int = chocolateBarPrice * chocolateBarCount\n",
    "print(f\"Harga yang harus dibayar adalah {chocolateBarTotalPrice} rupiah.\")\n"
   ]
  },
  {
   "cell_type": "markdown",
   "id": "f9ad7453",
   "metadata": {},
   "source": [
    "# Kuis Coding: Menentukan Wujud Air"
   ]
  },
  {
   "cell_type": "code",
   "execution_count": 38,
   "id": "83a9f6f2",
   "metadata": {},
   "outputs": [
    {
     "name": "stdout",
     "output_type": "stream",
     "text": [
      "Masukkan suhu (dalam derajat Celsius): 100\n",
      "Air tetap berupa cairan.\n"
     ]
    }
   ],
   "source": [
    "\"\"\"\n",
    "TODO:\n",
    " 1. Buatlah perintah untuk meminta masukan pengguna yang bertipe data float dan simpan pada variabel temperature.\n",
    " 2. Ada pengecekan variabel temperature sesuai dengan kebutuhan.\n",
    "    2.1. Jika temperature lebih dari 100 akan mencetak teks \"Air berubah menjadi gas.\"\n",
    "    2.2. Jika temperature di antara 0 dan 100 akan mencetak teks \"Air tetap berupa cairan.\"\n",
    "    2.3. Jika temperature kurang dari 0 akan mencetak teks \"Air berubah menjadi padat.\"\n",
    "\"\"\"\n",
    "\n",
    "# Tulis kode Anda di bawah ini ----------------------------------------------------------------------\n",
    "\n",
    "# Langkah 1: Meminta masukan pengguna yang bertipe data float dan simpan pada variabel temperature\n",
    "temperature: float = float(input(\"Masukkan suhu (dalam derajat Celsius): \"))\n",
    "\n",
    "# Langkah 2: Pengecekan variabel temperature sesuai dengan kebutuhan\n",
    "if temperature > 100:\n",
    "    print(\"Air berubah menjadi gas.\")\n",
    "elif 0 <= temperature <= 100:\n",
    "    print(\"Air tetap berupa cairan.\")\n",
    "else:\n",
    "    print(\"Air berubah menjadi padat.\")"
   ]
  },
  {
   "cell_type": "markdown",
   "id": "b957c17c",
   "metadata": {},
   "source": [
    "# Kuis Coding: Pemeriksaan Suhu Tubuh"
   ]
  },
  {
   "cell_type": "code",
   "execution_count": 39,
   "id": "70754f4f",
   "metadata": {},
   "outputs": [
    {
     "name": "stdout",
     "output_type": "stream",
     "text": [
      "Masukkan suhu tubuh Anda (dalam derajat Celsius): 50\n",
      "Anda mengalami sakit demam.\n",
      "Anda disarankan istirahat atau kunjungi dokter secepatnya.\n"
     ]
    }
   ],
   "source": [
    "\"\"\"\n",
    "TODO:\n",
    " 1. Buatlah variabel isSick bertipe data boolean yang bernilai False untuk menyimpan status sakit.\n",
    " 2. Buatlah perintah untuk meminta masukan pengguna yang bertipe data float dan simpan pada variabel temperature.\n",
    " 3. Ada pengecekan variabel temperature sesuai dengan kebutuhan.\n",
    "    3.1. Jika temperature 38 ke atas akan mencetak teks \"Anda mengalami sakit demam.\" dan ubahlah status isSick menjadi True.\n",
    "    3.2. Jika temperature di antara 35 dan 38 akan mencetak teks \"Suhu tubuh Anda normal.\"\n",
    "    3.3. Jika temperature kurang dari atau sama dengan 35 akan mencetak teks \"Anda terjangkit sakit hipotermia.\" dan ubahlah status isSick menjadi True.\n",
    " 4. Ada pemberian saran apabila sedang mengalami sakit.\n",
    "    4.1. Gunakan variabel isSick untuk memeriksa sedang sakit atau tidak.\n",
    "    4.2. Jika mengalami sakit, program akan mencetak teks \"Anda disarankan istirahat atau kunjungi dokter secepatnya.\"\n",
    "\"\"\"\n",
    "\n",
    "# Tulis kode Anda di bawah ini ----------------------------------------------------------------------\n",
    "\n",
    "\n",
    "isSick: bool = False\n",
    "\n",
    "# Langkah 2: Meminta masukan pengguna yang bertipe data float dan menyimpannya dalam variabel temperature\n",
    "temperature: float = float(input(\"Masukkan suhu tubuh Anda (dalam derajat Celsius): \"))\n",
    "\n",
    "# Langkah 3: Pengecekan variabel temperature sesuai dengan kebutuhan\n",
    "if temperature >= 38:\n",
    "    print(\"Anda mengalami sakit demam.\")\n",
    "    isSick: bool = True\n",
    "elif 35 < temperature < 38:\n",
    "    print(\"Suhu tubuh Anda normal.\")\n",
    "else:\n",
    "    print(\"Anda terjangkit sakit hipotermia.\")\n",
    "    isSick: bool = True\n",
    "\n",
    "# Langkah 4: Memberikan saran apabila sedang mengalami sakit\n",
    "if isSick:\n",
    "    print(\"Anda disarankan istirahat atau kunjungi dokter secepatnya.\")\n"
   ]
  },
  {
   "cell_type": "markdown",
   "id": "b3991c78",
   "metadata": {},
   "source": [
    "# Kuis Coding: Perhitungan Barisan Geometri"
   ]
  },
  {
   "cell_type": "code",
   "execution_count": 40,
   "id": "ec873ed9",
   "metadata": {},
   "outputs": [
    {
     "name": "stdout",
     "output_type": "stream",
     "text": [
      "Masukkan nilai suku yang ingin diketahui (bilangan bulat): 10\n",
      "4 12 36 108 324 972 2916 8748 26244 78732 \n"
     ]
    }
   ],
   "source": [
    "\"\"\"\n",
    "TODO:\n",
    " 1. Buatlah variabel a bertipe data integer yang bernilai 4 untuk menyimpan nilai suku pertama.\n",
    " 2. Buatlah variabel r bertipe data integer yang bernilai 3 untuk menyimpan nilai rasio antar suku.\n",
    " 3. Buatlah perintah untuk meminta masukan pengguna yang bertipe data integer dan simpan pada variabel n sebagai nilai suku yang ingin diketahui.\n",
    " 4. Lakukan perulangan mulai dari 1 hingga n+1 dengan\n",
    "    4.1. state i;\n",
    "    4.2. menghitung suku ke-n berdasarkan state i dan simpan pada variabel Un; dan\n",
    "    4.3. mencetak setiap variabel Un menggunakan perintah print dan parameter end.\n",
    " 5. Lakukan pemberhentian mencetak teks dengan perintah print tanpa isi.\n",
    "\"\"\"\n",
    "\n",
    "# Tulis kode Anda di bawah ini ----------------------------------------------------------------------\n",
    "\n",
    "# Langkah 1: Mendefinisikan variabel a dan r\n",
    "a: int = 4  # Nilai suku pertama\n",
    "r: int = 3  # Nilai rasio antar suku\n",
    "\n",
    "# Langkah 3: Meminta masukan pengguna untuk nilai suku yang ingin diketahui\n",
    "n: int = int(input(\"Masukkan nilai suku yang ingin diketahui (bilangan bulat): \"))\n",
    "\n",
    "# Langkah 4: Melakukan perulangan untuk mencetak suku ke-n\n",
    "for i in range(1, n + 1):\n",
    "    Un: int = a * (r ** (i - 1))  # Menghitung suku ke-n berdasarkan state i\n",
    "    print(Un, end=\" \")       # Mencetak setiap variabel Un menggunakan parameter end\n",
    "\n",
    "# Langkah 5: Memberhentikan mencetak teks dengan print tanpa isi\n",
    "print()\n"
   ]
  },
  {
   "cell_type": "markdown",
   "id": "22146e91",
   "metadata": {},
   "source": [
    "# Kuis Coding: Perhitungan Angka Ganjil"
   ]
  },
  {
   "cell_type": "code",
   "execution_count": 41,
   "id": "1ba01695",
   "metadata": {},
   "outputs": [
    {
     "name": "stdout",
     "output_type": "stream",
     "text": [
      "Masukkan nilai suku yang ingin diketahui (bilangan bulat): 10\n",
      "1 3 5 7 9 11 13 15 17 19 \n"
     ]
    }
   ],
   "source": [
    "\"\"\"\n",
    "TODO:\n",
    " 1. Buatlah variabel a bertipe data integer yang bernilai 1 untuk menyimpan nilai suku pertama.\n",
    " 2. Buatlah variabel b bertipe data integer yang bernilai 2 untuk menyimpan nilai beda antar suku.\n",
    " 3. Buatlah perintah untuk meminta masukan pengguna yang bertipe data integer dan simpan pada variabel n sebagai nilai suku yang ingin diketahui.\n",
    " 4. Lakukan perulangan mulai dari 1 hingga n+1 dengan\n",
    "    4.1. state i;\n",
    "    4.2. menghitung suku ke-n berdasarkan state i dan simpan pada variabel Un; dan\n",
    "    4.3. mencetak setiap variabel Un menggunakan perintah print dan parameter end.\n",
    " 5. Lakukan pemberhentian mencetak teks dengan perintah print tanpa isi.\n",
    "\"\"\"\n",
    "\n",
    "# Tulis kode Anda di bawah ini ----------------------------------------------------------------------\n",
    "\n",
    "# Langkah 1: Mendefinisikan variabel a dan b\n",
    "a: int = 1  # Suku pertama\n",
    "b: int = 2  # Beda antar suku\n",
    "\n",
    "# Langkah 3: Meminta masukan pengguna untuk nilai suku yang ingin diketahui\n",
    "n: int = int(input(\"Masukkan nilai suku yang ingin diketahui (bilangan bulat): \"))\n",
    "\n",
    "# Langkah 4: Melakukan perulangan untuk mencetak suku ke-n\n",
    "for i in range(1, n + 1):\n",
    "    Un: int = a + (i - 1) * b  # Menghitung suku ke-n berdasarkan state i\n",
    "    print(Un, end=\" \")    # Mencetak setiap variabel Un menggunakan parameter end\n",
    "\n",
    "# Langkah 5: Memberhentikan mencetak teks dengan print tanpa isi\n",
    "print()\n"
   ]
  },
  {
   "cell_type": "markdown",
   "id": "1089636a",
   "metadata": {},
   "source": [
    "# Kuis Coding: Cat Dinding"
   ]
  },
  {
   "cell_type": "code",
   "execution_count": 42,
   "id": "85fcad28",
   "metadata": {},
   "outputs": [
    {
     "name": "stdout",
     "output_type": "stream",
     "text": [
      "Masukkan panjang ruang: 100\n",
      "Masukkan lebar ruang: 50\n",
      "Masukkan tinggi ruang: 15\n",
      "Jumlah cat yang Anda perlukan adalah 375.0 liter.\n"
     ]
    }
   ],
   "source": [
    "\"\"\"\n",
    "TODO:\n",
    " 1. Buatlah perintah untuk meminta masukan pengguna yang bertipe data float dan simpan pada variabel panjangRuang.\n",
    " 2. Buatlah perintah untuk meminta masukan pengguna yang bertipe data float dan simpan pada variabel lebarRuang.\n",
    " 3. Buatlah perintah untuk meminta masukan pengguna yang bertipe data float dan simpan pada variabel tinggiRuang.\n",
    " 4. Buatlah fungsi bernama hitungCat yang memiliki parameter panjangRuang, lebarRuang, dan tinggiRuang.\n",
    "    4.1. Hitung keliling ruangan dengan rumus keliling persegi panjang dan simpan pada variabel kelilingRuang.\n",
    "    4.2. Hitung jumlah liter cat yang akan dipakai dengan rumus di atas.\n",
    "    4.3. Fungsi ini mengembalikan nilai float yang menyatakan jumlah liter cat berdasarkan ketiga nilai tersebut.\n",
    "    4.4. Simpan hasil fungsi pada variabel jumlahLiter.\n",
    " 5. Cetak nilai jumlahLiter pada teks \"Jumlah cat yang Anda perlukan adalah {jumlahLiter} liter.\"\n",
    "\"\"\"\n",
    "\n",
    "# Tulis kode Anda di bawah ini ----------------------------------------------------------------------\n",
    "\n",
    "panjangRuang: float = float(input(\"Masukkan panjang ruang: \"))\n",
    "lebarRuang: float = float(input(\"Masukkan lebar ruang: \"))\n",
    "tinggiRuang: float = float(input(\"Masukkan tinggi ruang: \"))\n",
    "def hitungCat(panjangRuang: float, lebarRuang: float, tinggiRuang: float) -> float:\n",
    "    kelilingRuang: float = 2 * (panjangRuang + lebarRuang)\n",
    "    jumlahLiter: float = (kelilingRuang * tinggiRuang) / 12\n",
    "    return jumlahLiter\n",
    "jumlahLiter: float = hitungCat(panjangRuang, lebarRuang, tinggiRuang)\n",
    "print(f\"Jumlah cat yang Anda perlukan adalah {jumlahLiter} liter.\")"
   ]
  },
  {
   "cell_type": "markdown",
   "id": "c3e307d2",
   "metadata": {},
   "source": [
    "# Kuis Coding: Luas Bangunan"
   ]
  },
  {
   "cell_type": "code",
   "execution_count": 44,
   "id": "bc340de0",
   "metadata": {},
   "outputs": [
    {
     "name": "stdout",
     "output_type": "stream",
     "text": [
      "Masukan Angka: 1500\n",
      "Masukan Angka: 40\n",
      "Masukan Angka: 20\n",
      "Rumah dapat dibangun berdasarkan ketiga nilai tersebut.\n"
     ]
    }
   ],
   "source": [
    "\"\"\"\n",
    "TODO:\n",
    " 1. Buatlah perintah untuk meminta masukan pengguna yang bertipe data float dan simpan pada variabel landArea.\n",
    " 2. Buatlah perintah untuk meminta masukan pengguna yang bertipe data float dan simpan pada variabel width.\n",
    " 3. Buatlah perintah untuk meminta masukan pengguna yang bertipe data float dan simpan pada variabel length.\n",
    " 4. Buatlah fungsi bernama checkArea yang memiliki parameter landArea, width, dan length.\n",
    "    4.1. Hitung luas bangunan dengan mengalikan variabel width dan length serta simpan pada variabel buildingArea.\n",
    "    4.2. Periksa nilai buildingArea dan landArea dengan kriteria berikut.\n",
    "         4.2.1. Apabila nilai buildingArea lebih besar dari landArea, kembalikan nilai False.\n",
    "         4.2.2. Apabila nilai buildingArea kurang dari atau sama dengan landArea, kembalikan nilai True.\n",
    "    4.3. Fungsi ini mengembalikan nilai boolean yang menyatakan bisa atau tidak bangunan dibangun berdasarkan ketiga nilai tersebut.\n",
    "    4.4. Simpan hasil fungsi pada variabel check.\n",
    " 5. Buatlah pengondisian dari variabel check dengan kriteria berikut.\n",
    "    5.1. Apabila bernilai False, cetaklah teks \"Rumah tidak dapat dibangun berdasarkan ketiga nilai tersebut.\"\n",
    "    5.2. Apabila bernilai True, cetaklah teks \"Rumah dapat dibangun berdasarkan ketiga nilai tersebut.\"\n",
    "\"\"\"\n",
    "\n",
    "# Tulis kode Anda di bawah ini ----------------------------------------------------------------------\n",
    "\n",
    "landArea: float = float(input(\"Masukan Angka: \"))\n",
    "width: float = float(input(\"Masukan Angka: \"))\n",
    "length: float = float(input(\"Masukan Angka: \"))\n",
    "def checkArea (landArea: float, width: float, length: float) -> bool:\n",
    "  buildingArea = width * length\n",
    "  if buildingArea > landArea:\n",
    "    return False\n",
    "  else:\n",
    "    return True\n",
    "check: bool = checkArea(landArea, width, length)\n",
    "if check == False:\n",
    "    print(\"Rumah tidak dapat dibangun berdasarkan ketiga nilai tersebut.\")\n",
    "else:\n",
    "    print(\"Rumah dapat dibangun berdasarkan ketiga nilai tersebut.\")"
   ]
  },
  {
   "cell_type": "markdown",
   "id": "98f65097",
   "metadata": {},
   "source": [
    "# Kuis Coding: Perhitungan Faktorial Rekursif\n"
   ]
  },
  {
   "cell_type": "code",
   "execution_count": 45,
   "id": "09205062",
   "metadata": {},
   "outputs": [
    {
     "name": "stdout",
     "output_type": "stream",
     "text": [
      "Masukkan bilangan bulat (n): 10\n",
      "\n",
      "10! = 3628800.\n"
     ]
    }
   ],
   "source": [
    "\"\"\"\n",
    "TODO:\n",
    " 1. Buatlah perintah untuk meminta masukan pengguna yang bertipe data integer dan simpan pada variabel n.\n",
    " 2. Buatlah fungsi rekursif bernama hitung_faktorial yang memiliki parameter n untuk mendapatkan hasil akhir perhitungan faktorial.\n",
    "    2.1. Gunakan jenis linear, direct, dan tail recursion untuk membuat fungsi rekursif.\n",
    "    2.2. Terapkan konsep decrement atau pengurangan satu demi satu setiap memanggil fungsi rekursif.\n",
    "    2.3. Jika nilai n bernilai 0, hentikan proses rekursif dengan mengembalikan nilai 1.\n",
    "    2.4. Selain itu, kembalikan nilai n dikali dengan fungsi rekursif dengan nilai decrement n.\n",
    "    2.5. Simpan hasil fungsi pada variabel hasil_hitung_faktorial.\n",
    " 3. Cetak pada akhir program dengan format \"{n}! = {hasil_hitung_faktorial}\".\n",
    "\"\"\"\n",
    "\n",
    "# Tulis kode Anda di bawah ini ----------------------------------------------------------------------\n",
    "\n",
    "\n",
    "def hitung_faktorial(n: int) -> int:\n",
    "    if n == 0:\n",
    "        return 1\n",
    "    else:\n",
    "        return n * hitung_faktorial(n - 1)\n",
    "n: int = int(input(\"Masukkan bilangan bulat (n): \"))\n",
    "print(\"\")\n",
    "hasil_hitung_faktorial: int = hitung_faktorial(n)\n",
    "print(f\"{n}! = {hasil_hitung_faktorial}\"\".\")\n"
   ]
  }
 ],
 "metadata": {
  "kernelspec": {
   "display_name": "Python 3 (ipykernel)",
   "language": "python",
   "name": "python3"
  },
  "language_info": {
   "codemirror_mode": {
    "name": "ipython",
    "version": 3
   },
   "file_extension": ".py",
   "mimetype": "text/x-python",
   "name": "python",
   "nbconvert_exporter": "python",
   "pygments_lexer": "ipython3",
   "version": "3.11.4"
  },
  "toc": {
   "base_numbering": 1,
   "nav_menu": {},
   "number_sections": true,
   "sideBar": true,
   "skip_h1_title": false,
   "title_cell": "Table of Contents",
   "title_sidebar": "Contents",
   "toc_cell": false,
   "toc_position": {},
   "toc_section_display": true,
   "toc_window_display": false
  }
 },
 "nbformat": 4,
 "nbformat_minor": 5
}
